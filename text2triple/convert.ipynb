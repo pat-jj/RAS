{
 "cells": [
  {
   "cell_type": "code",
   "execution_count": 2,
   "metadata": {},
   "outputs": [],
   "source": [
    "import json\n",
    "import csv\n",
    "\n",
    "def convert_json_to_csv(input_json_path, output_csv_path):\n",
    "    \"\"\"\n",
    "    Convert JSON file containing questions and supporting documents to a CSV file\n",
    "    with supporting documents as rows.\n",
    "    \n",
    "    Args:\n",
    "        input_json_path (str): Path to input JSON file\n",
    "        output_csv_path (str): Path to output CSV file\n",
    "    \"\"\"\n",
    "    # Read JSON file\n",
    "    with open(input_json_path, 'r', encoding='utf-8') as f:\n",
    "        data = json.load(f)\n",
    "    \n",
    "    # Create a list to store all supporting documents\n",
    "    supporting_docs = []\n",
    "    \n",
    "    # Extract supporting documents from each question\n",
    "    for item in data:\n",
    "        if 'supporting_docs' in item:\n",
    "            for docs_list in item['supporting_docs'].values():\n",
    "                supporting_docs.extend(docs_list)\n",
    "    \n",
    "    # Write to CSV file\n",
    "    with open(output_csv_path, 'w', encoding='utf-8', newline='') as f:\n",
    "        writer = csv.writer(f, quoting=csv.QUOTE_ALL)\n",
    "        # Write header\n",
    "        writer.writerow(['text'])\n",
    "        # Write supporting documents\n",
    "        for doc in supporting_docs:\n",
    "            if doc != '':\n",
    "                writer.writerow([doc])\n",
    "\n",
    "# Example usage\n",
    "input_file = 'processed_hotpot.json'  # Replace with your JSON file path\n",
    "output_file = 'hotpot.csv' # Replace with desired output CSV file path\n",
    "\n",
    "convert_json_to_csv(input_file, output_file)"
   ]
  },
  {
   "cell_type": "code",
   "execution_count": null,
   "metadata": {},
   "outputs": [],
   "source": []
  }
 ],
 "metadata": {
  "kernelspec": {
   "display_name": "kgc",
   "language": "python",
   "name": "python3"
  },
  "language_info": {
   "codemirror_mode": {
    "name": "ipython",
    "version": 3
   },
   "file_extension": ".py",
   "mimetype": "text/x-python",
   "name": "python",
   "nbconvert_exporter": "python",
   "pygments_lexer": "ipython3",
   "version": "3.8.13"
  }
 },
 "nbformat": 4,
 "nbformat_minor": 2
}
