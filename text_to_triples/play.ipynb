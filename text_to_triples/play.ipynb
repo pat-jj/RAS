{
 "cells": [
  {
   "cell_type": "code",
   "execution_count": 5,
   "metadata": {},
   "outputs": [
    {
     "name": "stdout",
     "output_type": "stream",
     "text": [
      "Generated triples: (S> Albert einstein| P> Birth place| O> Ulm, germany), (S> Albert einstein| P> Award| O> Nobel prize in physics), (S> Albert einstein| P> Death year| O> 1955), (S> Albert einstein| P> Occupation| O> Professor), (S> Albert einstein| P> Workplace| O> Princeton university)\n"
     ]
    }
   ],
   "source": [
    "from transformers import T5Tokenizer, T5ForConditionalGeneration\n",
    "import torch\n",
    "\n",
    "def generate_triples(input_text: str, model_path: str = \"pat-jj/text2triple-flan-t5\"):\n",
    "    # Initialize tokenizer and model\n",
    "    tokenizer = T5Tokenizer.from_pretrained(model_path)\n",
    "    model = T5ForConditionalGeneration.from_pretrained(\n",
    "        model_path,\n",
    "        device_map=\"auto\",\n",
    "        torch_dtype=torch.bfloat16  # Use bfloat16 for efficiency\n",
    "    )\n",
    "    \n",
    "    # Tokenize input with proper padding and attention mask\n",
    "    inputs = tokenizer(\n",
    "        input_text,\n",
    "        max_length=512,\n",
    "        padding='max_length',\n",
    "        truncation=True,\n",
    "        return_tensors=\"pt\"\n",
    "    )\n",
    "    \n",
    "    # Move inputs to the same device as model\n",
    "    input_ids = inputs['input_ids'].to(model.device)\n",
    "    attention_mask = inputs['attention_mask'].to(model.device)\n",
    "\n",
    "    # Generate with better parameters\n",
    "    with torch.no_grad():\n",
    "        outputs = model.generate(\n",
    "            input_ids=input_ids,\n",
    "            attention_mask=attention_mask,\n",
    "            max_length=512,\n",
    "            num_beams=4,  # Use beam search\n",
    "            early_stopping=True,\n",
    "            length_penalty=0.6,  # Penalize very long outputs\n",
    "            use_cache=True  # Use KV cache for faster generation\n",
    "        )\n",
    "    \n",
    "    # Decode and return the generated triples\n",
    "    generated_triples = tokenizer.decode(outputs[0], skip_special_tokens=True)\n",
    "    return generated_triples\n",
    "\n",
    "# Example usage\n",
    "input_text = \"\"\"Albert Einstein was born in Ulm, Germany in 1879. He developed the theory of relativity \n",
    "and won the Nobel Prize in Physics in 1921. Einstein worked as a professor at Princeton University \n",
    "until his death in 1955.\"\"\"\n",
    "generated_triples = generate_triples(input_text)\n",
    "print(\"Generated triples:\", generated_triples)"
   ]
  },
  {
   "cell_type": "code",
   "execution_count": 7,
   "metadata": {},
   "outputs": [
    {
     "name": "stdout",
     "output_type": "stream",
     "text": [
      "Generated triples: (S> Google| P> Birthday| O> When)\n"
     ]
    }
   ],
   "source": [
    "input_text = \"\"\"When is google's birthday?\"\"\"\n",
    "generated_triples = generate_triples(input_text)\n",
    "print(\"Generated triples:\", generated_triples)"
   ]
  },
  {
   "cell_type": "code",
   "execution_count": null,
   "metadata": {},
   "outputs": [],
   "source": []
  }
 ],
 "metadata": {
  "kernelspec": {
   "display_name": "kgc",
   "language": "python",
   "name": "python3"
  },
  "language_info": {
   "codemirror_mode": {
    "name": "ipython",
    "version": 3
   },
   "file_extension": ".py",
   "mimetype": "text/x-python",
   "name": "python",
   "nbconvert_exporter": "python",
   "pygments_lexer": "ipython3",
   "version": "3.8.13"
  }
 },
 "nbformat": 4,
 "nbformat_minor": 2
}
