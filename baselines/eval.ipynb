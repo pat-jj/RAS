{
 "cells": [
  {
   "cell_type": "code",
   "execution_count": null,
   "metadata": {},
   "outputs": [],
   "source": [
    "from evaluate import load\n",
    "import json\n",
    "import string\n",
    "import copy\n",
    "import re\n",
    "from nltk import sent_tokenize\n",
    "from rouge_score import rouge_scorer, scoring"
   ]
  },
  {
   "cell_type": "code",
   "execution_count": null,
   "metadata": {},
   "outputs": [],
   "source": [
    "with open(\"/shared/eng/pj20/firas_data/test_datasets/results/asqa_sonnet_retrieval_top_5_base.json\", \"r\") as f:\n",
    "    data = json.load(f)['data']"
   ]
  },
  {
   "cell_type": "code",
   "execution_count": 25,
   "metadata": {},
   "outputs": [],
   "source": [
    "def compute_rouge(data):\n",
    "    \"\"\"Main function for rouge scoring.\n",
    "    If two references are provided,\n",
    "    the best score is chosen for each instance.\n",
    "    Args:\n",
    "        data: requires field `output` and `answer` (or `annotations` for ASQA)\n",
    "        metrics: list of evaluation metrics\n",
    "    Returns:\n",
    "        dictionary representation of rouge scores\n",
    "    \"\"\"\n",
    "    def _rouge_calculation(hypotheses,\n",
    "                        references1,\n",
    "                        references2=[],\n",
    "                        metrics=['rougeLsum']):\n",
    "\n",
    "        if references2 == []:\n",
    "            references2 = references1\n",
    "\n",
    "        scorer = rouge_scorer.RougeScorer(metrics, use_stemmer=True)\n",
    "        aggregator = scoring.BootstrapAggregator()\n",
    "\n",
    "        for i in range(len(hypotheses)):\n",
    "            scores1 = scorer.score(references1[i], hypotheses[i])\n",
    "            scores2 = scorer.score(references2[i], hypotheses[i])\n",
    "            if scores1['rougeLsum'].fmeasure > scores2['rougeLsum'].fmeasure:\n",
    "                aggregator.add_scores(scores1)\n",
    "            else:\n",
    "                aggregator.add_scores(scores2)\n",
    "\n",
    "        scores = {m: [] for m in metrics}\n",
    "\n",
    "        for m in metrics:\n",
    "            fmeasure = aggregator.aggregate()[m].mid.fmeasure\n",
    "            scores[m].append(fmeasure)\n",
    "\n",
    "        for m in scores:\n",
    "            scores[m] = 100 * sum(scores[m]) / len(scores[m])\n",
    "\n",
    "        return scores\n",
    "\n",
    "    hypotheses = {}\n",
    "    references1 = {}\n",
    "    references2 = {}\n",
    "\n",
    "    for idx, item in enumerate(data):\n",
    "        hypotheses[idx] = item[\"output\"]\n",
    "        if \"annotations\" in item and item['annotations'] is not None: # For ASQA\n",
    "            references1[idx] = item[\"annotations\"][0][\"long_answer\"]\n",
    "            references2[idx] = item[\"annotations\"][1][\"long_answer\"]\n",
    "        else:\n",
    "            references1[idx] = item[\"answer\"]\n",
    "            references2[idx] = item[\"answer\"]\n",
    "\n",
    "    h, r1, r2 = [], [], []\n",
    "\n",
    "    for key in references1:\n",
    "        h.append(hypotheses[key])\n",
    "        r1.append(references1[key])\n",
    "\n",
    "        if references2 is not None:\n",
    "            r2.append(references2[key])\n",
    "\n",
    "    h = ['\\n'.join(sent_tokenize(text.lower())) for text in h]\n",
    "    r1 = ['\\n'.join(sent_tokenize(text.lower())) for text in r1]\n",
    "    r2 = ['\\n'.join(sent_tokenize(text.lower())) for text in r2]\n",
    "    scores = _rouge_calculation(h, r1, r2)\n",
    "\n",
    "    return scores['rougeLsum']\n",
    "\n",
    "\n",
    "def remove_citations(sent):\n",
    "    return re.sub(r\"\\[\\d+\", \"\", re.sub(r\" \\[\\d+\", \"\", sent)).replace(\" |\", \"\").replace(\"]\", \"\")\n",
    "\n",
    "\n",
    "mauve = load('mauve')\n",
    "    \n",
    "normalized_data = copy.deepcopy(data)\n",
    "for i in range(len(normalized_data)):\n",
    "    normalized_data[i]['output'] = remove_citations(normalized_data[i]['output'])\n",
    "\n",
    "references = [' '.join((item['question'] + \" \" + item['answer'].strip()).split()[:100]).rstrip(string.punctuation) for item in normalized_data]\n",
    "predictions = [' '.join((item['question'] + \" \" + item['output'].strip()).split()[:100]).rstrip(string.punctuation) for item in normalized_data]\n",
    "\n",
    "import mauve\n",
    "mauve_results = mauve.compute_mauve(\n",
    "    p_text=references,\n",
    "    q_text=predictions,\n",
    "    device_id=4,\n",
    "    max_text_length=512,\n",
    "    verbose=True,\n",
    "    batch_size=32,\n",
    "    featurize_model_name=\"gpt2-large\"\n",
    ")\n",
    "print(\"MAUVE: \", mauve_results.mauve * 100)\n",
    "\n",
    "rouge_results = compute_rouge(normalized_data)\n",
    "print(\"ROUGE: \", rouge_results)\n"
   ]
  },
  {
   "cell_type": "code",
   "execution_count": 44,
   "metadata": {},
   "outputs": [
    {
     "data": {
      "text/plain": [
       "\"Who has the highest goals in world football? The players with the highest all-time goals and highest men's and women's international football goals differ. The player with the highest all-time men's football goals is Josef Bican, who in 2020 was recognized by FIFA, the international governing body of football, as the record scorer with an estimated 805 goals. Christine Sinclair has the highest goals in women's international football with 187 and is the all-time leader for international goals scored for men or women. Cristiano Ronaldo and Ali Daei are currently tied for leading goalscorer in the history of men's international\""
      ]
     },
     "execution_count": 44,
     "metadata": {},
     "output_type": "execute_result"
    }
   ],
   "source": [
    "references[0]"
   ]
  },
  {
   "cell_type": "code",
   "execution_count": null,
   "metadata": {},
   "outputs": [],
   "source": []
  }
 ],
 "metadata": {
  "kernelspec": {
   "display_name": "handbook",
   "language": "python",
   "name": "python3"
  },
  "language_info": {
   "codemirror_mode": {
    "name": "ipython",
    "version": 3
   },
   "file_extension": ".py",
   "mimetype": "text/x-python",
   "name": "python",
   "nbconvert_exporter": "python",
   "pygments_lexer": "ipython3",
   "version": "3.10.14"
  }
 },
 "nbformat": 4,
 "nbformat_minor": 2
}
