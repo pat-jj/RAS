{
 "cells": [
  {
   "cell_type": "markdown",
   "metadata": {},
   "source": [
    "## [MAUVE & ROUGE] ASQA & ELI5"
   ]
  },
  {
   "cell_type": "code",
   "execution_count": null,
   "metadata": {},
   "outputs": [],
   "source": [
    "import copy\n",
    "import json\n",
    "from metrics import *\n",
    "\n",
    "with open(\"/shared/eng/pj20/firas_data/test_datasets/results/asqa_sonnet_retrieval_top_5_base.json\", \"r\") as f:\n",
    "    data = json.load(f)['data']"
   ]
  },
  {
   "cell_type": "code",
   "execution_count": null,
   "metadata": {},
   "outputs": [],
   "source": [
    "normalized_data = copy.deepcopy(data)\n",
    "for i in range(len(normalized_data)):\n",
    "    normalized_data[i]['output'] = remove_citations(normalized_data[i]['output'])\n",
    "\n",
    "references = [' '.join((item['question'] + \" \" + item['answer'].strip()).split()[:100]).rstrip(string.punctuation) for item in normalized_data]\n",
    "predictions = [' '.join((item['question'] + \" \" + item['output'].strip()).split()[:100]).rstrip(string.punctuation) for item in normalized_data]\n",
    "\n",
    "\n",
    "print(\"MAUVE: \", mauve_score(predictions, references))\n",
    "\n",
    "print(\"ROUGE: \", compute_rouge(normalized_data))"
   ]
  },
  {
   "cell_type": "markdown",
   "metadata": {},
   "source": [
    "## [Match] PopQA, TriviaQA, PubHealth, ARC-C"
   ]
  },
  {
   "cell_type": "code",
   "execution_count": 1,
   "metadata": {},
   "outputs": [
    {
     "name": "stderr",
     "output_type": "stream",
     "text": [
      "/home/pj20/miniconda3/envs/handbook/lib/python3.10/site-packages/tqdm/auto.py:21: TqdmWarning: IProgress not found. Please update jupyter and ipywidgets. See https://ipywidgets.readthedocs.io/en/stable/user_install.html\n",
      "  from .autonotebook import tqdm as notebook_tqdm\n",
      "/home/pj20/miniconda3/envs/handbook/lib/python3.10/site-packages/transformers/tokenization_utils_base.py:1601: FutureWarning: `clean_up_tokenization_spaces` was not set. It will be set to `True` by default. This behavior will be depracted in transformers v4.45, and will be then set to `False` by default. For more details check this issue: https://github.com/huggingface/transformers/issues/31884\n",
      "  warnings.warn(\n"
     ]
    }
   ],
   "source": [
    "import copy\n",
    "import json\n",
    "from metrics import *\n",
    "from utils import *\n",
    "\n",
    "# data = load_file(\"/shared/eng/pj20/firas_data/test_datasets/results/popqa_sonnet_retrieval_top_5.jsonl\")\n",
    "with open(\"/shared/eng/pj20/firas_data/test_datasets/triviaqa_test_output_sonnet_sonnet.json\", \"r\") as f:\n",
    "    data_ = json.load(f)\n",
    "\n",
    "data = []\n",
    "for i in range(len(data_['output'])):\n",
    "    data.append({\"output\": data_['output'][i].lower(), \"golds\": [d.lower() for d in data_['answer'][i]]})\n"
   ]
  },
  {
   "cell_type": "code",
   "execution_count": 2,
   "metadata": {},
   "outputs": [
    {
     "name": "stderr",
     "output_type": "stream",
     "text": [
      "100%|██████████| 999/999 [00:32<00:00, 30.91it/s] "
     ]
    },
    {
     "name": "stdout",
     "output_type": "stream",
     "text": [
      "Match:  0.24024024024024024\n"
     ]
    },
    {
     "name": "stderr",
     "output_type": "stream",
     "text": [
      "\n"
     ]
    }
   ],
   "source": [
    "from tqdm import tqdm\n",
    "\n",
    "data_[\"metric_result\"] = []\n",
    "for i in tqdm(range(len(data))):\n",
    "    data_[\"metric_result\"].append(cosine_match(data[i][\"output\"], data[i][\"golds\"]))\n",
    "    if data_[\"metric_result\"][i] == 1:\n",
    "        data_[\"answer\"][i].append(data[i][\"output\"])\n",
    "\n",
    "print(\"Match: \", np.mean(data_[\"metric_result\"]))"
   ]
  },
  {
   "cell_type": "code",
   "execution_count": 19,
   "metadata": {},
   "outputs": [
    {
     "data": {
      "text/plain": [
       "0.757201646090535"
      ]
     },
     "execution_count": 19,
     "metadata": {},
     "output_type": "execute_result"
    }
   ],
   "source": [
    "np.mean(data_[\"metric_result\"][:243])"
   ]
  },
  {
   "cell_type": "code",
   "execution_count": 18,
   "metadata": {},
   "outputs": [
    {
     "data": {
      "text/plain": [
       "(1, ['', '12', 'twelve', 'croatia'], 'Croatia')"
      ]
     },
     "execution_count": 18,
     "metadata": {},
     "output_type": "execute_result"
    }
   ],
   "source": [
    "i = 691\n",
    "data_[\"metric_result\"][i], data_[\"answer\"][i],data_[\"output\"][i]\n"
   ]
  },
  {
   "cell_type": "code",
   "execution_count": null,
   "metadata": {},
   "outputs": [],
   "source": [
    "import copy\n",
    "import json\n",
    "from metrics import *\n",
    "from utils import *\n",
    "from sentence_transformers import SentenceTransformer\n",
    "import torch.nn.functional as F\n",
    "\n",
    "model = SentenceTransformer('sentence-transformers/all-roberta-large-v1')"
   ]
  },
  {
   "cell_type": "code",
   "execution_count": 8,
   "metadata": {},
   "outputs": [
    {
     "data": {
      "text/plain": [
       "tensor([0.8377, 0.2373, 0.7109, 0.6616, 0.2947, 0.8449, 0.4855, 0.5121, 0.4533,\n",
       "        0.0541, 0.6941, 0.8485, 0.1473, 0.4985, 1.0000, 0.3116, 0.7921, 0.3176,\n",
       "        0.3021, 0.9029, 0.5923, 0.6585, 0.6905, 0.5659, 0.2425, 0.7421, 0.9029],\n",
       "       device='cuda:0')"
      ]
     },
     "execution_count": 8,
     "metadata": {},
     "output_type": "execute_result"
    }
   ],
   "source": [
    "# Get embeddings for output and all gold answers\n",
    "output_emb = model.encode(data_[\"output\"][i], convert_to_tensor=True)\n",
    "gold_embs = model.encode(data_[\"answer\"][i], convert_to_tensor=True)\n",
    "    \n",
    "    # Calculate cosine similarities\n",
    "similarities = F.cosine_similarity(output_emb.unsqueeze(0), gold_embs)\n",
    "    \n",
    "\n",
    "similarities\n"
   ]
  },
  {
   "cell_type": "markdown",
   "metadata": {},
   "source": [
    "## [F1] 2Wiki"
   ]
  },
  {
   "cell_type": "code",
   "execution_count": 3,
   "metadata": {},
   "outputs": [],
   "source": [
    "import copy\n",
    "import json\n",
    "from metrics import *\n",
    "from utils import *\n",
    "\n",
    "data = load_file(\"/shared/eng/pj20/firas_data/test_datasets/results/popqa_sonnet_retrieval_top_5.jsonl\")"
   ]
  },
  {
   "cell_type": "code",
   "execution_count": null,
   "metadata": {},
   "outputs": [],
   "source": [
    "for item in data:\n",
    "    metric_result = f1_score(item[\"output\"], item[\"golds\"])\n",
    "    item[\"metric_result\"] = metric_result\n",
    "\n",
    "print(\"F1: \", np.mean([item[\"metric_result\"] for item in data]))"
   ]
  },
  {
   "cell_type": "markdown",
   "metadata": {},
   "source": [
    "## [FS] Bio"
   ]
  },
  {
   "cell_type": "markdown",
   "metadata": {},
   "source": [
    "python -m factscore.factscorer --data_path YOUR_OUTPUT_FILE  --model_name retrieval+ChatGPT --cache_dir YOUR_CACHE_DIR --openai_key YOUR_OPEN_AI_KEY --verbose"
   ]
  },
  {
   "cell_type": "code",
   "execution_count": null,
   "metadata": {},
   "outputs": [],
   "source": []
  }
 ],
 "metadata": {
  "kernelspec": {
   "display_name": "handbook",
   "language": "python",
   "name": "python3"
  },
  "language_info": {
   "codemirror_mode": {
    "name": "ipython",
    "version": 3
   },
   "file_extension": ".py",
   "mimetype": "text/x-python",
   "name": "python",
   "nbconvert_exporter": "python",
   "pygments_lexer": "ipython3",
   "version": "3.10.14"
  }
 },
 "nbformat": 4,
 "nbformat_minor": 2
}
